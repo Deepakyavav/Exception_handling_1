{
 "cells": [
  {
   "attachments": {},
   "cell_type": "markdown",
   "metadata": {},
   "source": [
    "# 1"
   ]
  },
  {
   "attachments": {},
   "cell_type": "markdown",
   "metadata": {},
   "source": [
    "Exception: is an style of programming designed to recover from the error encountered gracefully without the creash of the program"
   ]
  },
  {
   "attachments": {},
   "cell_type": "markdown",
   "metadata": {},
   "source": [
    "An Exception is an event that occurs during the program execution and disrupts the normal flow of the program's execution.\n",
    "\n",
    "Syntax Errors mostly happen at compile-time like syntax error; however it can happen at runtime as well. Whereas an Exception occurs at runtime (checked exceptions can be detected at compile time)."
   ]
  },
  {
   "attachments": {},
   "cell_type": "markdown",
   "metadata": {},
   "source": [
    "# 2"
   ]
  },
  {
   "attachments": {},
   "cell_type": "markdown",
   "metadata": {},
   "source": [
    "Except statment are used to catch the error encountrued in the try block of pthon code "
   ]
  },
  {
   "cell_type": "code",
   "execution_count": 7,
   "metadata": {},
   "outputs": [
    {
     "name": "stdout",
     "output_type": "stream",
     "text": [
      "This is except block name 'r' is not defined\n"
     ]
    }
   ],
   "source": [
    "try:\n",
    "    f=open(\"text.txt\",r)\n",
    "except Exception as e:\n",
    "    # generally all predefined errors are wethin the Exception class\n",
    "    # Exception is super class\n",
    "    print(\"This is except block\",e)"
   ]
  },
  {
   "attachments": {},
   "cell_type": "markdown",
   "metadata": {},
   "source": [
    "# 3"
   ]
  },
  {
   "attachments": {},
   "cell_type": "markdown",
   "metadata": {},
   "source": [
    "If try except statment are mentioned then if exception is not mented then it will be handled by generic except statment that handles all the general Exceptional cases\n",
    "\n",
    "If Except statment is not mentioned then program will stuck and and not no further execution of program will be done"
   ]
  },
  {
   "attachments": {},
   "cell_type": "markdown",
   "metadata": {},
   "source": [
    "# 4"
   ]
  },
  {
   "attachments": {},
   "cell_type": "markdown",
   "metadata": {},
   "source": [
    "Try Block will try to execute the code that may may contain error"
   ]
  },
  {
   "cell_type": "code",
   "execution_count": 2,
   "metadata": {},
   "outputs": [
    {
     "name": "stdout",
     "output_type": "stream",
     "text": [
      "Write statment to write the data on the file\n",
      "This statment is be executed on the succiful execution of try code\n"
     ]
    }
   ],
   "source": [
    "try:\n",
    "    f=open(\"text.txt\",'w')\n",
    "    f.write(\"Write statment to write the data on the file\")\n",
    "except Exception as e:\n",
    "    print(\"This is Exception statment\",e)\n",
    "else:\n",
    "    # This block will execute only if the try block succifully executes.\n",
    "    f.close()\n",
    "    f=open(\"text.txt\",'r')\n",
    "    print(f.read())\n",
    "    f.close()\n",
    "    print(\"This statment is be executed on the succiful execution of try code\")"
   ]
  },
  {
   "attachments": {},
   "cell_type": "markdown",
   "metadata": {},
   "source": [
    "else block will execute only if the try block succifully executes."
   ]
  },
  {
   "cell_type": "code",
   "execution_count": 3,
   "metadata": {},
   "outputs": [
    {
     "name": "stdout",
     "output_type": "stream",
     "text": [
      "This is example of finally statmnet\n"
     ]
    }
   ],
   "source": [
    "try:\n",
    "    f=open(\"text1.txt\",'w')\n",
    "    f.write(\"This try statment block\")\n",
    "    f.close()\n",
    "finally:\n",
    "    print(\"This is example of finally statmnet\")\n",
    "    # this statment will be executed in all the condetions"
   ]
  },
  {
   "attachments": {},
   "cell_type": "markdown",
   "metadata": {},
   "source": [
    "finally statment will be executed in all the condetions weather there are any error or not"
   ]
  },
  {
   "cell_type": "code",
   "execution_count": 5,
   "metadata": {},
   "outputs": [
    {
     "name": "stdout",
     "output_type": "stream",
     "text": [
      "The candidate is not eligible for the exemination\n"
     ]
    }
   ],
   "source": [
    "class Error(Exception):\n",
    "    pass\n",
    "class dobException(Exception):\n",
    "    pass\n",
    "\n",
    "\n",
    "year=int(input(\"Enter the year of birth of the candidate\"))\n",
    "age=2022-year\n",
    "try:\n",
    "    if age<=30 and age>20:\n",
    "        print(\"Elegible candidate for the exemination\")\n",
    "    else:\n",
    "        raise dobException\n",
    "except dobException:\n",
    "    print(\"The candidate is not eligible for the exemination\")"
   ]
  },
  {
   "attachments": {},
   "cell_type": "markdown",
   "metadata": {},
   "source": [
    "Raise : try statment function will raise erroe if ancountered any exceptional situeation that statment will be catched by except block"
   ]
  },
  {
   "attachments": {},
   "cell_type": "markdown",
   "metadata": {},
   "source": [
    "# 5"
   ]
  },
  {
   "attachments": {},
   "cell_type": "markdown",
   "metadata": {},
   "source": [
    "Custom Expections are user defined exception that are defined by the user to handle user defined Exceptional condetion in the function"
   ]
  },
  {
   "attachments": {},
   "cell_type": "markdown",
   "metadata": {},
   "source": [
    "In Python, we can define custom exceptions by creating a new class that is derived from the built-in Exception class."
   ]
  },
  {
   "cell_type": "code",
   "execution_count": 8,
   "metadata": {},
   "outputs": [
    {
     "name": "stdout",
     "output_type": "stream",
     "text": [
      "The candidate is not eligible for the exemination\n"
     ]
    }
   ],
   "source": [
    "class Error(Exception):\n",
    "    pass\n",
    "class dobException(Exception):\n",
    "    pass\n",
    "\n",
    "\n",
    "year=int(input(\"Enter the year of birth of the candidate\"))\n",
    "age=2022-year\n",
    "try:\n",
    "    if age<=30 and age>20:\n",
    "        print(\"Elegible candidate for the exemination\")\n",
    "    else:\n",
    "        raise dobException\n",
    "except dobException:\n",
    "    print(\"The candidate is not eligible for the exemination\")"
   ]
  },
  {
   "attachments": {},
   "cell_type": "markdown",
   "metadata": {},
   "source": [
    "# 6"
   ]
  },
  {
   "cell_type": "code",
   "execution_count": 9,
   "metadata": {},
   "outputs": [],
   "source": [
    "class validate_age(Exception):\n",
    "    pass\n",
    "\n",
    "def  validate(age):\n",
    "    if age<0:\n",
    "        raise validate_age(\"The data value is not possible\")\n",
    "    elif age >250:\n",
    "        raise validate_age(\"The data value is very improbable\")\n",
    "    else:\n",
    "        print(\"The adequate data value\")"
   ]
  },
  {
   "cell_type": "code",
   "execution_count": 11,
   "metadata": {},
   "outputs": [
    {
     "name": "stdout",
     "output_type": "stream",
     "text": [
      "The data value is very improbable\n"
     ]
    }
   ],
   "source": [
    "try:\n",
    "    age=int(input(\"Ther the age of codder\"))\n",
    "    validate(age)\n",
    "except validate_age as e:\n",
    "    print(e)"
   ]
  },
  {
   "cell_type": "code",
   "execution_count": null,
   "metadata": {},
   "outputs": [],
   "source": []
  }
 ],
 "metadata": {
  "kernelspec": {
   "display_name": "Python 3",
   "language": "python",
   "name": "python3"
  },
  "language_info": {
   "codemirror_mode": {
    "name": "ipython",
    "version": 3
   },
   "file_extension": ".py",
   "mimetype": "text/x-python",
   "name": "python",
   "nbconvert_exporter": "python",
   "pygments_lexer": "ipython3",
   "version": "3.11.2"
  },
  "orig_nbformat": 4
 },
 "nbformat": 4,
 "nbformat_minor": 2
}
